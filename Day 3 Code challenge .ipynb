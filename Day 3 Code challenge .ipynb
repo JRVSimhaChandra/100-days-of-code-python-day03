{
 "cells": [
  {
   "cell_type": "code",
   "execution_count": 1,
   "id": "00dc4cab-4b96-401f-9967-a681f22e789d",
   "metadata": {},
   "outputs": [
    {
     "name": "stdout",
     "output_type": "stream",
     "text": [
      "\n",
      "*******************************************************************************\n",
      "          |                   |                  |                     |\n",
      " _________|________________.=\"\"_;=.______________|_____________________|_______\n",
      "|                   |  ,-\"_,=\"\"     `\"=.|                  |\n",
      "|___________________|__\"=._o`\"-._        `\"=.______________|___________________\n",
      "          |                `\"=._o`\"=._      _`\"=._                     |\n",
      " _________|_____________________:=._o \"=._.\"_.-=\"'\"=.__________________|_______\n",
      "|                   |    __.--\" , ; `\"=._o.\" ,-\"\"\"-._ \".   |\n",
      "|___________________|_._\"  ,. .` ` `` ,  `\"-._\"-._   \". '__|___________________\n",
      "          |           |o`\"=._` , \"` `; .\". ,  \"-._\"-._; ;              |\n",
      " _________|___________| ;`-.o`\"=._; .\" ` '`.\"\\` . \"-._ /_______________|_______\n",
      "|                   | |o;    `\"-.o`\"=._``  '` \" ,__.--o;   |\n",
      "|___________________|_| ;     (#) `-.o `\"=.`_.--\"_o.-; ;___|___________________\n",
      "____/______/______/___|o;._    \"      `\".o|o_.--\"    ;o;____/______/______/____\n",
      "/______/______/______/_\"=._o--._        ; | ;        ; ;/______/______/______/_\n",
      "____/______/______/______/__\"=._o--._   ;o|o;     _._;o;____/______/______/____\n",
      "/______/______/______/______/____\"=._o._; | ;_.--\"o.--\"_/______/______/______/_\n",
      "____/______/______/______/______/_____\"=.o|o_.--\"\"___/______/______/______/____\n",
      "/______/______/______/______/______/______/______/______/______/______/_____ /\n",
      "*******************************************************************************\n",
      "\n"
     ]
    },
    {
     "name": "stderr",
     "output_type": "stream",
     "text": [
      "<>:1: SyntaxWarning: invalid escape sequence '\\`'\n",
      "<>:1: SyntaxWarning: invalid escape sequence '\\`'\n",
      "C:\\Users\\chand\\AppData\\Local\\Temp\\ipykernel_18896\\3134069329.py:1: SyntaxWarning: invalid escape sequence '\\`'\n",
      "  print('''\n"
     ]
    }
   ],
   "source": [
    "print('''\n",
    "*******************************************************************************\n",
    "          |                   |                  |                     |\n",
    " _________|________________.=\"\"_;=.______________|_____________________|_______\n",
    "|                   |  ,-\"_,=\"\"     `\"=.|                  |\n",
    "|___________________|__\"=._o`\"-._        `\"=.______________|___________________\n",
    "          |                `\"=._o`\"=._      _`\"=._                     |\n",
    " _________|_____________________:=._o \"=._.\"_.-=\"'\"=.__________________|_______\n",
    "|                   |    __.--\" , ; `\"=._o.\" ,-\"\"\"-._ \".   |\n",
    "|___________________|_._\"  ,. .` ` `` ,  `\"-._\"-._   \". '__|___________________\n",
    "          |           |o`\"=._` , \"` `; .\". ,  \"-._\"-._; ;              |\n",
    " _________|___________| ;`-.o`\"=._; .\" ` '`.\"\\` . \"-._ /_______________|_______\n",
    "|                   | |o;    `\"-.o`\"=._``  '` \" ,__.--o;   |\n",
    "|___________________|_| ;     (#) `-.o `\"=.`_.--\"_o.-; ;___|___________________\n",
    "____/______/______/___|o;._    \"      `\".o|o_.--\"    ;o;____/______/______/____\n",
    "/______/______/______/_\"=._o--._        ; | ;        ; ;/______/______/______/_\n",
    "____/______/______/______/__\"=._o--._   ;o|o;     _._;o;____/______/______/____\n",
    "/______/______/______/______/____\"=._o._; | ;_.--\"o.--\"_/______/______/______/_\n",
    "____/______/______/______/______/_____\"=.o|o_.--\"\"___/______/______/______/____\n",
    "/______/______/______/______/______/______/______/______/______/______/_____ /\n",
    "*******************************************************************************\n",
    "''')"
   ]
  },
  {
   "cell_type": "code",
   "execution_count": 3,
   "id": "67944469-99e0-40cd-aa42-0a6780eb9793",
   "metadata": {},
   "outputs": [
    {
     "name": "stdout",
     "output_type": "stream",
     "text": [
      "Welcome to Treasure Island.\n",
      "Your mission is to find the treasure.\n"
     ]
    }
   ],
   "source": [
    "print(\"Welcome to Treasure Island.\")\n",
    "print(\"Your mission is to find the treasure.\")"
   ]
  },
  {
   "cell_type": "code",
   "execution_count": 4,
   "id": "d1ec1f10-d074-403c-bfa0-af6d243a2b96",
   "metadata": {},
   "outputs": [
    {
     "name": "stdin",
     "output_type": "stream",
     "text": [
      "Left or right?\n",
      "Type Right/Left:  Left\n"
     ]
    }
   ],
   "source": [
    "first = input(\"Left or right?\\nType Right/Left: \").lower()"
   ]
  },
  {
   "cell_type": "code",
   "execution_count": 5,
   "id": "da95b835-401f-4b72-ae6a-363e3dea50a5",
   "metadata": {},
   "outputs": [],
   "source": [
    "if first == \"right\":\n",
    "    print('''                      -     =    .--._\n",
    "                - - ~_=  =~_- = - `.  `-.\n",
    "              ==~_ = =_  ~ -   =  .-'    `.\n",
    "            --=~_ - ~  == - =   .'      _..:._\n",
    "           ---=~ _~  = =-  =   `.  .--.'      `.\n",
    "          --=_-=- ~= _ - =  -  _.'  `.      .--.:\n",
    "            -=_~ -- = =  ~-  .'      :     :    :\n",
    "             -=-_ ~=  = - _-`--.     :  .--:    D\n",
    "               -=~ _=  =  -~_=  `;  .'.:   ,`---'@\n",
    "             --=_= = ~-   -=   .'  .'  `._ `-.__.'\n",
    "            --== ~_ - =  =-  .'  .'     _.`---'\n",
    "           --=~_= = - = ~  .'--''   .   `-..__.--.\n",
    "             --==~ _= - ~-=  =-~_-   `-..___(  ===;\n",
    "          --==~_==- =__ ~-=  - -    .'       `---'\n",
    "  ''')"
   ]
  },
  {
   "cell_type": "code",
   "execution_count": 7,
   "id": "2a6fb572-e52f-40d1-b735-6eb6c9a9e6f4",
   "metadata": {},
   "outputs": [
    {
     "name": "stdout",
     "output_type": "stream",
     "text": [
      "Sonic got the treasure before you, try again.\n",
      "\n",
      "       _                                                             | |                                                            | |_ _ __ ___  __ _ ___ _   _ _ __ ___ _ __ ___   __ _ _ __    | __| '__/ _ \\/ _` / __| | | | '__/ _ \\ '_ ` _ \\ / _` | '_ \\   | |_| | |  __/ (_| \\__ \\ |_| | | |  __/ | | | | | (_| | |_) |  \\__|_|  \\___|\\__,_|___/\\__,_|_|  \\___|_| |_| |_|\\__,_| .__/                                                         | |                                                            |_|   \n",
      "    \n",
      "\n",
      "   _                                                           \n",
      "  | |                                                          \n",
      "  | |_ _ __ ___  __ _ ___ _   _ _ __ ___ _ __ ___   __ _ _ __  \n",
      "  | __| '__/ _ \\/ _` / __| | | | '__/ _ \\ '_ ` _ \\ / _` | '_ \\ \n",
      "  | |_| | |  __/ (_| \\__ \\ |_| | | |  __/ | | | | | (_| | |_) |\n",
      "  \\__|_|  \\___|\\__,_|___/\\__,_|_|  \\___|_| |_| |_|\\__,_| .__/ \n",
      "                                                        | |    \n",
      "                                                        |_| \n",
      "  \n"
     ]
    },
    {
     "name": "stderr",
     "output_type": "stream",
     "text": [
      "<>:5: SyntaxWarning: invalid escape sequence '\\/'\n",
      "<>:11: SyntaxWarning: invalid escape sequence '\\/'\n",
      "<>:5: SyntaxWarning: invalid escape sequence '\\/'\n",
      "<>:11: SyntaxWarning: invalid escape sequence '\\/'\n",
      "C:\\Users\\chand\\AppData\\Local\\Temp\\ipykernel_18896\\3541385123.py:5: SyntaxWarning: invalid escape sequence '\\/'\n",
      "  print('''\n",
      "C:\\Users\\chand\\AppData\\Local\\Temp\\ipykernel_18896\\3541385123.py:11: SyntaxWarning: invalid escape sequence '\\/'\n",
      "  print('''\n"
     ]
    }
   ],
   "source": [
    "print(\"Sonic got the treasure before you, try again.\")\n",
    "if first == 'right':\n",
    "    print(\"Right direction selected.\")\n",
    "elif first == 'left':\n",
    "    print('''\n",
    "       _                                                             | |                                                            | |_ _ __ ___  __ _ ___ _   _ _ __ ___ _ __ ___   __ _ _ __    | __| '__/ _ \\/ _` / __| | | | '__/ _ \\ '_ ` _ \\ / _` | '_ \\   | |_| | |  __/ (_| \\__ \\ |_| | | |  __/ | | | | | (_| | |_) |  \\__|_|  \\___|\\__,_|___/\\__,_|_|  \\___|_| |_| |_|\\__,_| .__/                                                         | |                                                            |_|   \n",
    "    ''')\n",
    "else:\n",
    "    print(\"Invalid direction.\")\n",
    "\n",
    "print('''\n",
    "   _                                                           \n",
    "  | |                                                          \n",
    "  | |_ _ __ ___  __ _ ___ _   _ _ __ ___ _ __ ___   __ _ _ __  \n",
    "  | __| '__/ _ \\/ _` / __| | | | '__/ _ \\ '_ ` _ \\ / _` | '_ \\ \n",
    "  | |_| | |  __/ (_| \\__ \\ |_| | | |  __/ | | | | | (_| | |_) |\n",
    "  \\__|_|  \\___|\\__,_|___/\\__,_|_|  \\___|_| |_| |_|\\__,_| .__/ \n",
    "                                                        | |    \n",
    "                                                        |_| \n",
    "  ''')"
   ]
  },
  {
   "cell_type": "code",
   "execution_count": 8,
   "id": "6ce1ef89-deda-4ad4-b1fa-74876903e464",
   "metadata": {},
   "outputs": [
    {
     "name": "stdout",
     "output_type": "stream",
     "text": [
      "Nice, you made it to the next level!\n"
     ]
    }
   ],
   "source": [
    "print(\"Nice, you made it to the next level!\")"
   ]
  },
  {
   "cell_type": "code",
   "execution_count": 10,
   "id": "c220d7cd-da35-41e5-8c39-741e5e17bb0d",
   "metadata": {},
   "outputs": [
    {
     "name": "stderr",
     "output_type": "stream",
     "text": [
      "<>:3: SyntaxWarning: invalid escape sequence '\\ '\n",
      "<>:3: SyntaxWarning: invalid escape sequence '\\ '\n",
      "C:\\Users\\chand\\AppData\\Local\\Temp\\ipykernel_18896\\3113050625.py:3: SyntaxWarning: invalid escape sequence '\\ '\n",
      "  print('''\n"
     ]
    },
    {
     "name": "stdin",
     "output_type": "stream",
     "text": [
      "Your map shows that you need to get to Treasure Island, you can wait to board a ship or swim accross the sea, pick one.\n",
      "Type Swim/Wait:  Right\n"
     ]
    }
   ],
   "source": [
    "second = input(\"Your map shows that you need to get to Treasure Island, you can wait to board a ship or swim accross the sea, pick one.\\nType Swim/Wait: \").lower()\n",
    "if second == \"swim\":\n",
    " print('''\n",
    "                    (`.\n",
    "                    \\ `.\n",
    "                      )  `._..---._\n",
    "    \\`.       __...---`         o  )\n",
    "    \\ `._,--'           ,    ___,'\n",
    "      ) ,-._          \\  )   _,-'\n",
    "    /,'    ``--.._____\\/--''\n",
    "        ''')"
   ]
  },
  {
   "cell_type": "code",
   "execution_count": 17,
   "id": "c0fede4c-cf21-47a8-8d2c-4ccc0b8e33cc",
   "metadata": {},
   "outputs": [
    {
     "name": "stdout",
     "output_type": "stream",
     "text": [
      "Invalid action.\n"
     ]
    },
    {
     "name": "stderr",
     "output_type": "stream",
     "text": [
      "<>:9: SyntaxWarning: invalid escape sequence '\\/'\n",
      "<>:9: SyntaxWarning: invalid escape sequence '\\/'\n",
      "C:\\Users\\chand\\AppData\\Local\\Temp\\ipykernel_18896\\3651123691.py:9: SyntaxWarning: invalid escape sequence '\\/'\n",
      "  print('''     _                                     _     _                 _\n"
     ]
    }
   ],
   "source": [
    "first = \"something\"  # Example value\n",
    "second = \"something_else\"  # Example value\n",
    "\n",
    "if first == 'attack':\n",
    "    print(\"Unfortunately, you were eaten by a Great White Shark, try again.\")\n",
    "elif second == \"wait\":\n",
    "    print(\"Nice, you made it to the next level, you're pretty good at this!\")\n",
    "    print(\"Welcome to:\")\n",
    "    print('''     _                                     _     _                 _     \n",
    "    | |                                   (_)   | |               | |    \n",
    "    | |_ _ __ ___  __ _ ___ _   _ _ __ ___ _ ___| | __ _ _ __   __| |    \n",
    "    | __| '__/ _ \\/ _` / __| | | | '__/ _ \\ / __| |/ _` | '_ \\ / _` |    \n",
    "    | |_| | |  __/ (_| \\__ \\ |_| | | |  __/ \\__ \\ | (_| | | | | (_| |    \n",
    "     \\__|_|  \\___|\\__,_|___/\\__,_|_|  \\___|_|___/_|\\__,_|_| |_|\\__,_|    \n",
    "    ''')\n",
    "else:\n",
    "    print(\"Invalid action.\")\n",
    "\n"
   ]
  },
  {
   "cell_type": "code",
   "execution_count": null,
   "id": "786e8164-125f-4178-a114-018366293c95",
   "metadata": {},
   "outputs": [],
   "source": [
    "third = input(\"Now that you've made it to Treasure Island, you can dig or search the cave. \\n Type Dig/Cave: \").lower()\n",
    "\n",
    "if third == \"dig\":\n",
    "    print(\"You've found the treasure, you win!\")\n",
    "elif third == \"cave\":\n",
    "    print(r'''      _                           \n",
    "    | |                          \n",
    "    | |__   ___  __ _ _ __       \n",
    "    | '_ \\ / _ \\/ _` | '__|      \n",
    "    | |_) |  __/ (_| | |         \n",
    "    |_.__/ \\___|\\__,_|_|''')\n",
    "    print(\"You were eaten by a bear, game over.\")\n",
    "else:\n",
    "    print(\"Invalid choice. Please type Dig or Cave.\")\n"
   ]
  },
  {
   "cell_type": "code",
   "execution_count": null,
   "id": "155cee39-0f6b-4096-bffa-074acadb253e",
   "metadata": {},
   "outputs": [],
   "source": []
  }
 ],
 "metadata": {
  "kernelspec": {
   "display_name": "Python 3 (ipykernel)",
   "language": "python",
   "name": "python3"
  },
  "language_info": {
   "codemirror_mode": {
    "name": "ipython",
    "version": 3
   },
   "file_extension": ".py",
   "mimetype": "text/x-python",
   "name": "python",
   "nbconvert_exporter": "python",
   "pygments_lexer": "ipython3",
   "version": "3.12.4"
  }
 },
 "nbformat": 4,
 "nbformat_minor": 5
}
